{
  "nbformat": 4,
  "nbformat_minor": 0,
  "metadata": {
    "colab": {
      "name": "Data_Wrangling_Python.ipynb",
      "provenance": [],
      "authorship_tag": "ABX9TyPEn/AJnqqjzCW9YWXa4ZjB"
    },
    "kernelspec": {
      "name": "python3",
      "display_name": "Python 3"
    },
    "language_info": {
      "name": "python"
    }
  },
  "cells": [
    {
      "cell_type": "code",
      "execution_count": null,
      "metadata": {
        "id": "4vqIGTxtPx-A"
      },
      "outputs": [],
      "source": [
        ""
      ]
    },
    {
      "cell_type": "markdown",
      "source": [
        "# Chapter 1 - Cara Membaca Data Menggunakan Pandas\n",
        "1. Membaca file dengan menggunakan pandas"
      ],
      "metadata": {
        "id": "6o0SApWGQKTz"
      }
    },
    {
      "cell_type": "code",
      "source": [
        "import pandas as pd\n",
        "csv_data = pd.read_csv(\"https://storage.googleapis.com/dqlab-dataset/shopping_data.csv\")"
      ],
      "metadata": {
        "id": "cunF7eX7QZeo"
      },
      "execution_count": null,
      "outputs": []
    },
    {
      "cell_type": "code",
      "source": [
        "print(csv_data)"
      ],
      "metadata": {
        "id": "HREbXhlhQ3fI"
      },
      "execution_count": null,
      "outputs": []
    },
    {
      "cell_type": "markdown",
      "source": [
        "2. Membaca file dengan menggunakan head()"
      ],
      "metadata": {
        "id": "o1wqHoLnRB2p"
      }
    },
    {
      "cell_type": "code",
      "source": [
        "import pandas as pd \n",
        "csv_data = pd.read_csv(\"https://storage.googleapis.com/dqlab-dataset/shopping_data.csv\")"
      ],
      "metadata": {
        "id": "YHo9YzNwRKzA"
      },
      "execution_count": null,
      "outputs": []
    },
    {
      "cell_type": "code",
      "source": [
        "print(csv_data.head())"
      ],
      "metadata": {
        "id": "CoAt_1rBRPYg"
      },
      "execution_count": null,
      "outputs": []
    },
    {
      "cell_type": "markdown",
      "source": [
        "3. Melakukan akses data kolom"
      ],
      "metadata": {
        "id": "_inERH6lRRC7"
      }
    },
    {
      "cell_type": "code",
      "source": [
        "import pandas as pd \n",
        "csv_data = pd.read_csv(\"https://storage.googleapis.com/dqlab-dataset/shopping_data.csv\")"
      ],
      "metadata": {
        "id": "Ct4SPK9WRVXr"
      },
      "execution_count": null,
      "outputs": []
    },
    {
      "cell_type": "code",
      "source": [
        "print(csv_data['Age'])"
      ],
      "metadata": {
        "id": "5fQAG4r-RXWW"
      },
      "execution_count": null,
      "outputs": []
    },
    {
      "cell_type": "markdown",
      "source": [
        "4. Melakukan akses data melalui baris"
      ],
      "metadata": {
        "id": "xIgw43hSRZGX"
      }
    },
    {
      "cell_type": "code",
      "source": [
        "import pandas as pd \n",
        "csv_data = pd.read_csv(\"https://storage.googleapis.com/dqlab-dataset/shopping_data.csv"
      ],
      "metadata": {
        "id": "bjq7ds8iRjs1"
      },
      "execution_count": null,
      "outputs": []
    },
    {
      "cell_type": "code",
      "source": [
        "print(csv_data.iloc[5])"
      ],
      "metadata": {
        "id": "nl0OXSZERkiF"
      },
      "execution_count": null,
      "outputs": []
    },
    {
      "cell_type": "markdown",
      "source": [
        "5. Menampilkan suatu data dari baris dan kolom tertentu"
      ],
      "metadata": {
        "id": "Xn8nEX8iRmiK"
      }
    },
    {
      "cell_type": "code",
      "source": [
        "import pandas as pd \n",
        "csv_data = pd.read_csv(\"https://storage.googleapis.com/dqlab-dataset/shopping_data.csv\")"
      ],
      "metadata": {
        "id": "JB8JKv7ARp4_"
      },
      "execution_count": null,
      "outputs": []
    },
    {
      "cell_type": "code",
      "source": [
        "print(csv_data['Age'].iloc[1])"
      ],
      "metadata": {
        "id": "qqp1IIQkRr0R"
      },
      "execution_count": null,
      "outputs": []
    },
    {
      "cell_type": "code",
      "source": [
        "print(\"Cuplikan Dataset:\")"
      ],
      "metadata": {
        "id": "vXq1wzXBRul-"
      },
      "execution_count": null,
      "outputs": []
    },
    {
      "cell_type": "code",
      "source": [
        "print(csv_data.head())"
      ],
      "metadata": {
        "id": "RhhQxaYkRv2b"
      },
      "execution_count": null,
      "outputs": []
    },
    {
      "cell_type": "markdown",
      "source": [
        "6. Menampilkan data dalam range tertentu"
      ],
      "metadata": {
        "id": "eXKkWTXvRwmX"
      }
    },
    {
      "cell_type": "code",
      "source": [
        "import pandas as pd \n",
        "csv_data = pd.read_csv(\"https://storage.googleapis.com/dqlab-dataset/shopping_data.csv\")"
      ],
      "metadata": {
        "id": "yne7wuFER0mq"
      },
      "execution_count": null,
      "outputs": []
    },
    {
      "cell_type": "code",
      "source": [
        "print(\"Menampilkan data ke 5 sampai kurang dari 10 dalam satu baris:\")"
      ],
      "metadata": {
        "id": "6KwBtjc_R2gW"
      },
      "execution_count": null,
      "outputs": []
    },
    {
      "cell_type": "code",
      "source": [
        "print(csv_data.iloc[5:10])"
      ],
      "metadata": {
        "id": "46aQce7CR45K"
      },
      "execution_count": null,
      "outputs": []
    },
    {
      "cell_type": "markdown",
      "source": [
        "7. Menampilkan informasi statistik dengan Nump"
      ],
      "metadata": {
        "id": "LskoLJE6R9TV"
      }
    },
    {
      "cell_type": "code",
      "source": [
        "import pandas as pd \n",
        "csv_data = pd.read_csv(\"https://storage.googleapis.com/dqlab-dataset/shopping_data.csv\")"
      ],
      "metadata": {
        "id": "R_6nKlwhSAxM"
      },
      "execution_count": null,
      "outputs": []
    },
    {
      "cell_type": "code",
      "source": [
        "print(csv_data.describe(exclude=['O']))"
      ],
      "metadata": {
        "id": "1A1GeR7FSCR0"
      },
      "execution_count": null,
      "outputs": []
    }
  ]
}
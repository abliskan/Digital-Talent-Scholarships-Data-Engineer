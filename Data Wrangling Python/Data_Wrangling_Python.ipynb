{
  "nbformat": 4,
  "nbformat_minor": 0,
  "metadata": {
    "colab": {
      "name": "Data_Wrangling_Python.ipynb",
      "provenance": [],
      "authorship_tag": "ABX9TyPLQFLQisOy4yIjTepzTVqN",
      "include_colab_link": true
    },
    "kernelspec": {
      "name": "python3",
      "display_name": "Python 3"
    },
    "language_info": {
      "name": "python"
    }
  },
  "cells": [
    {
      "cell_type": "markdown",
      "metadata": {
        "id": "view-in-github",
        "colab_type": "text"
      },
      "source": [
        "<a href=\"https://colab.research.google.com/github/abliskan/Digital-Talent-Scholarships-Data-Engineer/blob/main/Data%20Wrangling%20Python/Data_Wrangling_Python.ipynb\" target=\"_parent\"><img src=\"https://colab.research.google.com/assets/colab-badge.svg\" alt=\"Open In Colab\"/></a>"
      ]
    },
    {
      "cell_type": "code",
      "execution_count": null,
      "metadata": {
        "id": "4vqIGTxtPx-A"
      },
      "outputs": [],
      "source": [
        ""
      ]
    },
    {
      "cell_type": "markdown",
      "source": [
        "# Chapter 1 - Cara Membaca Data Menggunakan Pandas\n",
        "1. Membaca file dengan menggunakan pandas"
      ],
      "metadata": {
        "id": "6o0SApWGQKTz"
      }
    },
    {
      "cell_type": "code",
      "source": [
        "import pandas as pd\n",
        "csv_data = pd.read_csv(\"https://storage.googleapis.com/dqlab-dataset/shopping_data.csv\")"
      ],
      "metadata": {
        "id": "cunF7eX7QZeo"
      },
      "execution_count": null,
      "outputs": []
    },
    {
      "cell_type": "code",
      "source": [
        "print(csv_data)"
      ],
      "metadata": {
        "id": "HREbXhlhQ3fI"
      },
      "execution_count": null,
      "outputs": []
    },
    {
      "cell_type": "markdown",
      "source": [
        "2. Membaca file dengan menggunakan head()"
      ],
      "metadata": {
        "id": "o1wqHoLnRB2p"
      }
    },
    {
      "cell_type": "code",
      "source": [
        "import pandas as pd \n",
        "csv_data = pd.read_csv(\"https://storage.googleapis.com/dqlab-dataset/shopping_data.csv\")"
      ],
      "metadata": {
        "id": "YHo9YzNwRKzA"
      },
      "execution_count": null,
      "outputs": []
    },
    {
      "cell_type": "code",
      "source": [
        "print(csv_data.head())"
      ],
      "metadata": {
        "id": "CoAt_1rBRPYg"
      },
      "execution_count": null,
      "outputs": []
    },
    {
      "cell_type": "markdown",
      "source": [
        "3. Melakukan akses data kolom"
      ],
      "metadata": {
        "id": "_inERH6lRRC7"
      }
    },
    {
      "cell_type": "code",
      "source": [
        "import pandas as pd \n",
        "csv_data = pd.read_csv(\"https://storage.googleapis.com/dqlab-dataset/shopping_data.csv\")"
      ],
      "metadata": {
        "id": "Ct4SPK9WRVXr"
      },
      "execution_count": null,
      "outputs": []
    },
    {
      "cell_type": "code",
      "source": [
        "print(csv_data['Age'])"
      ],
      "metadata": {
        "id": "5fQAG4r-RXWW"
      },
      "execution_count": null,
      "outputs": []
    },
    {
      "cell_type": "markdown",
      "source": [
        "4. Melakukan akses data melalui baris"
      ],
      "metadata": {
        "id": "xIgw43hSRZGX"
      }
    },
    {
      "cell_type": "code",
      "source": [
        "import pandas as pd \n",
        "csv_data = pd.read_csv(\"https://storage.googleapis.com/dqlab-dataset/shopping_data.csv"
      ],
      "metadata": {
        "id": "bjq7ds8iRjs1"
      },
      "execution_count": null,
      "outputs": []
    },
    {
      "cell_type": "code",
      "source": [
        "print(csv_data.iloc[5])"
      ],
      "metadata": {
        "id": "nl0OXSZERkiF"
      },
      "execution_count": null,
      "outputs": []
    },
    {
      "cell_type": "markdown",
      "source": [
        "5. Menampilkan suatu data dari baris dan kolom tertentu"
      ],
      "metadata": {
        "id": "Xn8nEX8iRmiK"
      }
    },
    {
      "cell_type": "code",
      "source": [
        "import pandas as pd \n",
        "csv_data = pd.read_csv(\"https://storage.googleapis.com/dqlab-dataset/shopping_data.csv\")"
      ],
      "metadata": {
        "id": "JB8JKv7ARp4_"
      },
      "execution_count": null,
      "outputs": []
    },
    {
      "cell_type": "code",
      "source": [
        "print(csv_data['Age'].iloc[1])"
      ],
      "metadata": {
        "id": "qqp1IIQkRr0R"
      },
      "execution_count": null,
      "outputs": []
    },
    {
      "cell_type": "code",
      "source": [
        "print(\"Cuplikan Dataset:\")"
      ],
      "metadata": {
        "id": "vXq1wzXBRul-"
      },
      "execution_count": null,
      "outputs": []
    },
    {
      "cell_type": "code",
      "source": [
        "print(csv_data.head())"
      ],
      "metadata": {
        "id": "RhhQxaYkRv2b"
      },
      "execution_count": null,
      "outputs": []
    },
    {
      "cell_type": "markdown",
      "source": [
        "6. Menampilkan data dalam range tertentu"
      ],
      "metadata": {
        "id": "eXKkWTXvRwmX"
      }
    },
    {
      "cell_type": "code",
      "source": [
        "import pandas as pd \n",
        "csv_data = pd.read_csv(\"https://storage.googleapis.com/dqlab-dataset/shopping_data.csv\")"
      ],
      "metadata": {
        "id": "yne7wuFER0mq"
      },
      "execution_count": null,
      "outputs": []
    },
    {
      "cell_type": "code",
      "source": [
        "print(\"Menampilkan data ke 5 sampai kurang dari 10 dalam satu baris:\")"
      ],
      "metadata": {
        "id": "6KwBtjc_R2gW"
      },
      "execution_count": null,
      "outputs": []
    },
    {
      "cell_type": "code",
      "source": [
        "print(csv_data.iloc[5:10])"
      ],
      "metadata": {
        "id": "46aQce7CR45K"
      },
      "execution_count": null,
      "outputs": []
    },
    {
      "cell_type": "markdown",
      "source": [
        "7. Menampilkan informasi statistik dengan Nump"
      ],
      "metadata": {
        "id": "LskoLJE6R9TV"
      }
    },
    {
      "cell_type": "code",
      "source": [
        "import pandas as pd \n",
        "csv_data = pd.read_csv(\"https://storage.googleapis.com/dqlab-dataset/shopping_data.csv\")"
      ],
      "metadata": {
        "id": "R_6nKlwhSAxM"
      },
      "execution_count": null,
      "outputs": []
    },
    {
      "cell_type": "code",
      "source": [
        "print(csv_data.describe(exclude=['O']))"
      ],
      "metadata": {
        "id": "1A1GeR7FSCR0"
      },
      "execution_count": null,
      "outputs": []
    },
    {
      "cell_type": "markdown",
      "source": [
        "# Chapter 2 - Data Missing Hingga Normalisasi Data\n",
        "1. Melakukan pengecekan untuk nilai NULL yang ada"
      ],
      "metadata": {
        "id": "CP6hkoJxvOIN"
      }
    },
    {
      "cell_type": "code",
      "source": [
        "import pandas as pd \n",
        "csv_data = pd.read_csv(\"https://storage.googleapis.com/dqlab-dataset/shopping_data_missingvalue.csv\")"
      ],
      "metadata": {
        "id": "K7cr466xvr23"
      },
      "execution_count": null,
      "outputs": []
    },
    {
      "cell_type": "code",
      "source": [
        "print(csv_data.isnull().values.any())"
      ],
      "metadata": {
        "id": "hdBvtmktwKkg"
      },
      "execution_count": null,
      "outputs": []
    },
    {
      "cell_type": "markdown",
      "source": [
        "2. Mengisi dengan Mean"
      ],
      "metadata": {
        "id": "lCaIJOuuwL6G"
      }
    },
    {
      "cell_type": "code",
      "source": [
        "import pandas as pd\n",
        "csv_data = pd.read_csv(\"https://storage.googleapis.com/dqlab-dataset/shopping_data_missingvalue.csv\")"
      ],
      "metadata": {
        "id": "-ziSz7qCwfcS"
      },
      "execution_count": null,
      "outputs": []
    },
    {
      "cell_type": "code",
      "source": [
        "print(csv_data.mean())"
      ],
      "metadata": {
        "id": "giuXNA7QwqU_"
      },
      "execution_count": null,
      "outputs": []
    },
    {
      "cell_type": "code",
      "source": [
        "print(\"Dataset yang masih terdapat nilai kosong ! :\")"
      ],
      "metadata": {
        "id": "t85layvkwvI5"
      },
      "execution_count": null,
      "outputs": []
    },
    {
      "cell_type": "code",
      "source": [
        "print(csv_data.head(10))"
      ],
      "metadata": {
        "id": "m_6MxmEgwwSu"
      },
      "execution_count": null,
      "outputs": []
    },
    {
      "cell_type": "code",
      "source": [
        "csv_data = csv_data.fillna(csv_data.mean())"
      ],
      "metadata": {
        "id": "xo1PKZjvww7Q"
      },
      "execution_count": null,
      "outputs": []
    },
    {
      "cell_type": "code",
      "source": [
        "print(\"Dataset yang sudah diproses Handling Missing Values dengan Mean :\")"
      ],
      "metadata": {
        "id": "0i0HYUYvw7gO"
      },
      "execution_count": null,
      "outputs": []
    },
    {
      "cell_type": "code",
      "source": [
        "print(csv_data.head(10))"
      ],
      "metadata": {
        "id": "clWy9n8Gw8s2"
      },
      "execution_count": null,
      "outputs": []
    },
    {
      "cell_type": "markdown",
      "source": [
        "3. Mengisi dengan Median"
      ],
      "metadata": {
        "id": "i8lMwzJaxGjy"
      }
    },
    {
      "cell_type": "code",
      "source": [
        "import pandas as pd \n",
        "csv_data = pd.read_csv(\"https://storage.googleapis.com/dqlab-dataset/shopping_data_missingvalue.csv\")"
      ],
      "metadata": {
        "id": "IPVELc77xIPQ"
      },
      "execution_count": null,
      "outputs": []
    },
    {
      "cell_type": "code",
      "source": [
        "print(\"Dataset yang masih terdapat nilai kosong ! :\")"
      ],
      "metadata": {
        "id": "FMEs-gr_xMzq"
      },
      "execution_count": null,
      "outputs": []
    },
    {
      "cell_type": "code",
      "source": [
        "print(csv_data.head(10))"
      ],
      "metadata": {
        "id": "eq5kx1OOxOFk"
      },
      "execution_count": null,
      "outputs": []
    },
    {
      "cell_type": "code",
      "source": [
        "csv_data = csv_data.fillna(csv_data.median())"
      ],
      "metadata": {
        "id": "IMRnOzOQxQ6k"
      },
      "execution_count": null,
      "outputs": []
    },
    {
      "cell_type": "code",
      "source": [
        "print(\"Dataset yang sudah diproses Handling Missing Values dengan Median :\")\n",
        "print(csv_data.head(10))"
      ],
      "metadata": {
        "id": "C-V_nSlTxSd_"
      },
      "execution_count": null,
      "outputs": []
    },
    {
      "cell_type": "markdown",
      "source": [
        "4. Praktek Normalisasi menggunakan Scikit Learn pada Python"
      ],
      "metadata": {
        "id": "LWDcL3JDxzMF"
      }
    },
    {
      "cell_type": "code",
      "source": [
        "import pandas as pd \n",
        "import numpy as np\n",
        "from sklearn import preprocessing\n",
        "\n",
        "csv_data = pd.read_csv(\"https://storage.googleapis.com/dqlab-dataset/shopping_data.csv\")\n",
        "array = csv_data.values"
      ],
      "metadata": {
        "id": "k4WL-2cPx0rC"
      },
      "execution_count": null,
      "outputs": []
    },
    {
      "cell_type": "code",
      "source": [
        "\n",
        "X = array[:,2:5] #memisahkan fitur dari dataset.\n",
        "Y = array[:,0:1] #memisahkan class dari dataset\n",
        "\n",
        "dataset = pd.DataFrame({'Customer ID':array[:,0], 'Gender':array[:,1],'Age':array[:,2],'Income':array[:,3],'Spending Score':array[:,4]})\n",
        "print(\"dataset sebelum dinormalisasi :\")\n",
        "print(dataset.head(10))"
      ],
      "metadata": {
        "id": "XigqMt60x_MG"
      },
      "execution_count": null,
      "outputs": []
    },
    {
      "cell_type": "code",
      "source": [
        "min_max_scaler = preprocessing.MinMaxScaler(feature_range=(0,1)) #inisialisasi normalisai MinMax\n",
        "data = min_max_scaler.fit_transform(X) #transformasi MinMax untuk fitur\n",
        "dataset = pd.DataFrame({'Age':data[:,0],'Income':data[:,1],'Spending Score':data[:,2],'Customer ID':array[:,0],'Gender':array[:,1]})\n",
        "\n",
        "print(\"dataset setelah dinormalisasi :\")\n",
        "print(dataset.head(10))"
      ],
      "metadata": {
        "id": "Hg3-0Z6QyB4O"
      },
      "execution_count": null,
      "outputs": []
    }
  ]
}
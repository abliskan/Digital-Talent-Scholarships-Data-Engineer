{
  "nbformat": 4,
  "nbformat_minor": 0,
  "metadata": {
    "colab": {
      "name": "Data_Quality_with_Python_for_Beginner.ipynb",
      "provenance": [],
      "authorship_tag": "ABX9TyM9500jxmF3SyPYSdFI/x/9",
      "include_colab_link": true
    },
    "kernelspec": {
      "name": "python3",
      "display_name": "Python 3"
    },
    "language_info": {
      "name": "python"
    }
  },
  "cells": [
    {
      "cell_type": "markdown",
      "metadata": {
        "id": "view-in-github",
        "colab_type": "text"
      },
      "source": [
        "<a href=\"https://colab.research.google.com/github/abliskan/Digital-Talent-Scholarships-Data-Engineer/blob/main/Data%20Quality%20with%20Python%20for%20Beginner/Data_Quality_with_Python_for_Beginner.ipynb\" target=\"_parent\"><img src=\"https://colab.research.google.com/assets/colab-badge.svg\" alt=\"Open In Colab\"/></a>"
      ]
    },
    {
      "cell_type": "code",
      "execution_count": null,
      "metadata": {
        "id": "8x62L24w3TOr"
      },
      "outputs": [],
      "source": [
        ""
      ]
    },
    {
      "cell_type": "markdown",
      "source": [
        "# Data Profiling\n",
        "1. Importing Data"
      ],
      "metadata": {
        "id": "q2swGwRo3fOe"
      }
    },
    {
      "cell_type": "code",
      "source": [
        "import pandas as pd\n",
        "import numpy as np\n",
        "import io\n",
        "import pandas_profiling \n",
        "retail_raw = pd.read_csv('https://storage.googleapis.com/dqlab-dataset/retail_raw_reduced_data_quality.csv')"
      ],
      "metadata": {
        "id": "LvFreyC13lQw"
      },
      "execution_count": null,
      "outputs": []
    },
    {
      "cell_type": "markdown",
      "source": [
        "2. Inspeksi tipe data"
      ],
      "metadata": {
        "id": "qI_VFu8T4tdf"
      }
    },
    {
      "cell_type": "code",
      "source": [
        "import numpy as np\n",
        "import io\n",
        "import pandas_profiling\n",
        "retail_raw = pd.read_csv('https://storage.googleapis.com/dqlab-dataset/retail_raw_reduced_data_quality.csv')"
      ],
      "metadata": {
        "id": "n73njuWV4Nxe"
      },
      "execution_count": null,
      "outputs": []
    },
    {
      "cell_type": "code",
      "source": [
        "# Cetak tipe data di setiap kolom retail_raw\n",
        "print(retail_raw.dtypes)"
      ],
      "metadata": {
        "id": "iElILzZN4VPI"
      },
      "execution_count": null,
      "outputs": []
    }
  ]
}